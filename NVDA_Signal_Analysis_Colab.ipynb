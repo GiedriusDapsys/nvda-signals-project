{
 "cells": [
  {
   "cell_type": "markdown",
   "id": "01db9b6b",
   "metadata": {},
   "source": [
    "# 📊 NVDA Signal Analysis Project\n",
    "Backtesting, visualization, and forecasting based on trading signals for NVDA."
   ]
  },
  {
   "cell_type": "code",
   "execution_count": null,
   "id": "83e75d0c",
   "metadata": {},
   "outputs": [],
   "source": [
    "\n",
    "import pandas as pd\n",
    "import matplotlib.pyplot as plt\n",
    "import numpy as np\n",
    "\n",
    "df = pd.read_csv(\"/content/NVDA_kainos_su_signalais (1).csv\")\n",
    "df.columns = df.columns.str.strip()\n",
    "df = df.rename(columns={'date': 'Date'})\n",
    "df['Date'] = pd.to_datetime(df['Date'])\n",
    "df = df.sort_values('Date').reset_index(drop=True)\n",
    "df.head()\n",
    "    "
   ]
  },
  {
   "cell_type": "code",
   "execution_count": null,
   "id": "592837e8",
   "metadata": {},
   "outputs": [],
   "source": [
    "\n",
    "plt.figure(figsize=(14,6))\n",
    "plt.plot(df['Date'], df['close'], label='Close Price', color='black')\n",
    "buy_signals = df[df['signal'] == 1.0]\n",
    "plt.scatter(buy_signals['Date'], buy_signals['close'], color='green', label='Buy Signal', marker='^', s=100)\n",
    "plt.title('NVDA Price with Buy Signals')\n",
    "plt.xlabel('Date')\n",
    "plt.ylabel('Price')\n",
    "plt.legend()\n",
    "plt.grid(True)\n",
    "plt.show()\n",
    "    "
   ]
  },
  {
   "cell_type": "code",
   "execution_count": null,
   "id": "7fc98668",
   "metadata": {},
   "outputs": [],
   "source": [
    "\n",
    "total_signals = len(buy_signals)\n",
    "avg_price = buy_signals['close'].mean()\n",
    "start_price = df['close'].iloc[0]\n",
    "end_price = df['close'].iloc[-1]\n",
    "return_pct = (end_price - start_price) / start_price * 100\n",
    "\n",
    "print(f'Total Buy Signals: {total_signals}')\n",
    "print(f'Average Buy Price: ${avg_price:.2f}')\n",
    "print(f'Total Return from {df[\"Date\"].iloc[0].date()} to {df[\"Date\"].iloc[-1].date()}: {return_pct:.2f}%')\n",
    "    "
   ]
  },
  {
   "cell_type": "code",
   "execution_count": null,
   "id": "207faf43",
   "metadata": {},
   "outputs": [],
   "source": [
    "\n",
    "from sklearn.linear_model import LinearRegression\n",
    "\n",
    "df['days'] = (df['Date'] - df['Date'].min()).dt.days\n",
    "X = df[['days']].values\n",
    "y = df['close'].values\n",
    "\n",
    "model = LinearRegression().fit(X, y)\n",
    "\n",
    "future_days = np.array(range(df['days'].max()+1, df['days'].max()+31)).reshape(-1,1)\n",
    "future_prices = model.predict(future_days)\n",
    "\n",
    "plt.figure(figsize=(14,6))\n",
    "plt.plot(df['Date'], df['close'], label='Historical')\n",
    "last_date = df['Date'].max()\n",
    "future_dates = pd.date_range(start=last_date + pd.Timedelta(days=1), periods=30)\n",
    "plt.plot(future_dates, future_prices, label='Forecast', linestyle='--')\n",
    "plt.title('NVDA Forecast (30 days ahead)')\n",
    "plt.xlabel('Date')\n",
    "plt.ylabel('Price')\n",
    "plt.legend()\n",
    "plt.grid(True)\n",
    "plt.show()\n",
    "    "
   ]
  }
 ],
 "metadata": {},
 "nbformat": 4,
 "nbformat_minor": 5
}
