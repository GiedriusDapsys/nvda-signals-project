{
 "cells": [
  {
   "cell_type": "markdown",
   "id": "557e44bd",
   "metadata": {},
   "source": [
    "# 📈 NVDA Signals and Forecast\n",
    "\n",
    "This notebook analyzes NVDA stock historical signals, calculates profitability, and generates a 30-business-day forecast using ARIMA.\n",
    "\n",
    "---\n",
    "\n",
    "**Contents**:\n",
    "- Load and prepare signal data\n",
    "- Plot signals (green = buy)\n",
    "- Analyze returns when holding for 5 days\n",
    "- Forecast next 30 business days using ARIMA\n"
   ]
  },
  {
   "cell_type": "code",
   "execution_count": null,
   "id": "81ffbcdb",
   "metadata": {},
   "outputs": [],
   "source": [
    "import pandas as pd\n",
    "\n",
    "# Load signal data from GitHub (you can also upload manually if local)\n",
    "url = \"https://raw.githubusercontent.com/GiedriusDapsys/nvda-signals-project/main/NVDA_kainos_su_signalais.csv\"\n",
    "df = pd.read_csv(url, parse_dates=[\"Date\"])\n",
    "df = df.sort_values(\"Date\")\n",
    "df.head()\n"
   ]
  },
  {
   "cell_type": "code",
   "execution_count": null,
   "id": "487d8539",
   "metadata": {},
   "outputs": [],
   "source": [
    "import matplotlib.pyplot as plt\n",
    "\n",
    "plt.figure(figsize=(14, 6))\n",
    "plt.plot(df[\"Date\"], df[\"Close\"], label=\"NVDA Close Price\", color=\"gray\")\n",
    "plt.scatter(df[df[\"Signal\"] == 1][\"Date\"], df[df[\"Signal\"] == 1][\"Close\"], color=\"green\", label=\"Buy Signal\", marker=\"^\", s=80)\n",
    "plt.title(\"NVDA Price with Buy Signals\")\n",
    "plt.xlabel(\"Date\")\n",
    "plt.ylabel(\"Price (USD)\")\n",
    "plt.legend()\n",
    "plt.grid(True)\n",
    "plt.tight_layout()\n",
    "plt.show()\n"
   ]
  },
  {
   "cell_type": "code",
   "execution_count": null,
   "id": "df7a8f4b",
   "metadata": {},
   "outputs": [],
   "source": [
    "signal_days = df[df[\"Signal\"] == 1].copy()\n",
    "holding_days = 5\n",
    "\n",
    "signal_days[\"Exit_Price\"] = signal_days[\"Date\"].apply(\n",
    "    lambda d: df[df[\"Date\"] > d].head(holding_days).Close.values[-1] if len(df[df[\"Date\"] > d].head(holding_days)) == holding_days else None\n",
    ")\n",
    "\n",
    "signal_days.dropna(subset=[\"Exit_Price\"], inplace=True)\n",
    "signal_days[\"Profit_pct\"] = 100 * (signal_days[\"Exit_Price\"] - signal_days[\"Close\"]) / signal_days[\"Close\"]\n",
    "signal_days[[\"Date\", \"Close\", \"Exit_Price\", \"Profit_pct\"]]\n"
   ]
  },
  {
   "cell_type": "code",
   "execution_count": null,
   "id": "806e32e4",
   "metadata": {},
   "outputs": [],
   "source": [
    "mean_return = signal_days[\"Profit_pct\"].mean()\n",
    "total_signals = len(signal_days)\n",
    "\n",
    "print(f\"Total buy signals with full {holding_days}-day holding: {total_signals}\")\n",
    "print(f\"Average return per signal: {mean_return:.2f}%\")\n"
   ]
  },
  {
   "cell_type": "code",
   "execution_count": null,
   "id": "e87973f9",
   "metadata": {},
   "outputs": [],
   "source": [
    "from statsmodels.tsa.arima.model import ARIMA\n",
    "\n",
    "df.set_index(\"Date\", inplace=True)\n",
    "model = ARIMA(df[\"Close\"], order=(5,1,0))\n",
    "model_fit = model.fit()\n",
    "forecast = model_fit.forecast(steps=30)\n",
    "forecast.plot(figsize=(12,5), title=\"30 Business Day Forecast\")\n"
   ]
  }
 ],
 "metadata": {},
 "nbformat": 4,
 "nbformat_minor": 5
}